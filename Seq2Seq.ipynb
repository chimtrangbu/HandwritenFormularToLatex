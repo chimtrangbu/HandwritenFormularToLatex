{
 "cells": [
  {
   "cell_type": "markdown",
   "metadata": {},
   "source": [
    "# Train and test the seq2seq model"
   ]
  },
  {
   "cell_type": "code",
   "execution_count": 1,
   "metadata": {
    "colab": {
     "autoexec": {
      "startup": false,
      "wait_interval": 0
     }
    },
    "colab_type": "code",
    "id": "xFGRQWr6jB10"
   },
   "outputs": [],
   "source": [
    "import numpy as np\n",
    "import matplotlib.pyplot as plt\n",
    "%matplotlib inline\n",
    "\n",
    "import random\n",
    "import json\n",
    "import os\n",
    "import time\n",
    "\n",
    "\n",
    "import tensorflow as tf\n",
    "\n",
    "import tensorflow.contrib.legacy_seq2seq as seq2seq\n",
    "\n",
    "from sklearn.model_selection import train_test_split"
   ]
  },
  {
   "cell_type": "code",
   "execution_count": 2,
   "metadata": {
    "colab": {
     "autoexec": {
      "startup": false,
      "wait_interval": 0
     }
    },
    "colab_type": "code",
    "id": "Jel8LfgijB2M"
   },
   "outputs": [],
   "source": [
    "xo = np.load(\"iseq_n.npy\")\n",
    "yo = np.load(\"oseq_n.npy\")"
   ]
  },
  {
   "cell_type": "code",
   "execution_count": 3,
   "metadata": {
    "colab": {
     "autoexec": {
      "startup": false,
      "wait_interval": 0
     }
    },
    "colab_type": "code",
    "id": "ALRBRrGIJOKa"
   },
   "outputs": [],
   "source": [
    "x = xo[:,:26,:]\n",
    "y = yo[:,:26]"
   ]
  },
  {
   "cell_type": "code",
   "execution_count": 4,
   "metadata": {
    "colab": {
     "autoexec": {
      "startup": false,
      "wait_interval": 0
     },
     "base_uri": "https://localhost:8080/",
     "height": 51
    },
    "colab_type": "code",
    "executionInfo": {
     "elapsed": 475,
     "status": "ok",
     "timestamp": 1532261389351,
     "user": {
      "displayName": "Ole Kröger",
      "photoUrl": "//lh5.googleusercontent.com/-ciOdkP2qYNQ/AAAAAAAAAAI/AAAAAAAABxw/lDVb2_X04Yw/s50-c-k-no/photo.jpg",
      "userId": "108059461262407262819"
     },
     "user_tz": -120
    },
    "id": "fQBQQL3ol68m",
    "outputId": "aa7d3279-8ba4-4120-e845-0344dbad68ee"
   },
   "outputs": [
    {
     "name": "stdout",
     "output_type": "stream",
     "text": [
      "30\n",
      "#ltokens:  28\n"
     ]
    }
   ],
   "source": [
    "nxchars = x.shape[2]\n",
    "print(nxchars)\n",
    "ltokens = ['0', '1', '2', '3', '4', '5', '6', '7', '8', '9', '-', '+', '=', '#leq', '#neq', '#geq', '#alpha',\n",
    "                            '#beta', '#lambda', '#lt', '#gt', 'x', 'y', '^', '#frac', '{', '}' ,' ']\n",
    "print(\"#ltokens: \", len(ltokens))"
   ]
  },
  {
   "cell_type": "code",
   "execution_count": 5,
   "metadata": {
    "colab": {
     "autoexec": {
      "startup": false,
      "wait_interval": 0
     }
    },
    "colab_type": "code",
    "id": "fmU4uwY7jB2S"
   },
   "outputs": [
    {
     "name": "stdout",
     "output_type": "stream",
     "text": [
      "26 25\n"
     ]
    }
   ],
   "source": [
    "x_seq_length = len(x[0])\n",
    "y_seq_length = len(y[0])- 1\n",
    "print(x_seq_length, y_seq_length)"
   ]
  },
  {
   "cell_type": "code",
   "execution_count": 6,
   "metadata": {
    "colab": {
     "autoexec": {
      "startup": false,
      "wait_interval": 0
     }
    },
    "colab_type": "code",
    "id": "DC02d5lwjB2X"
   },
   "outputs": [],
   "source": [
    "def batch_data(x, y, batch_size):\n",
    "    shuffle = np.random.permutation(len(x))\n",
    "    start = 0\n",
    "#     from IPython.core.debugger import Tracer; Tracer()()\n",
    "    x = x[shuffle]\n",
    "    y = y[shuffle]\n",
    "    while start + batch_size <= len(x):\n",
    "        yield x[start:start+batch_size], y[start:start+batch_size]\n",
    "        start += batch_size"
   ]
  },
  {
   "cell_type": "code",
   "execution_count": 7,
   "metadata": {
    "colab": {
     "autoexec": {
      "startup": false,
      "wait_interval": 0
     }
    },
    "colab_type": "code",
    "id": "T1Hfp3ojjB2b"
   },
   "outputs": [
    {
     "name": "stdout",
     "output_type": "stream",
     "text": [
      "WARNING:tensorflow:From <ipython-input-7-fa3006c2938d>:15: BasicLSTMCell.__init__ (from tensorflow.python.ops.rnn_cell_impl) is deprecated and will be removed in a future version.\n",
      "Instructions for updating:\n",
      "This class is deprecated, please use tf.nn.rnn_cell.LSTMCell, which supports all the feature this cell currently has. Please replace the existing code with tf.nn.rnn_cell.LSTMCell(name='basic_lstm_cell').\n"
     ]
    }
   ],
   "source": [
    "batch_size = 512\n",
    "nodes = 256\n",
    "embed_size = 20\n",
    "\n",
    "# Tensor where we will feed the data into graph\n",
    "inputs = tf.placeholder(tf.float32, (None, x_seq_length, nxchars), 'inputs')\n",
    "outputs = tf.placeholder(tf.int32, (None, None), 'output')\n",
    "targets = tf.placeholder(tf.int32, (None, None), 'targets')\n",
    "\n",
    "# Embedding layers\n",
    "output_embedding = tf.Variable(tf.random_uniform((len(ltokens)+1, embed_size), -1.0, 1.0), name='dec_embedding')\n",
    "date_output_embed = tf.nn.embedding_lookup(output_embedding, outputs)\n",
    "\n",
    "with tf.variable_scope(\"encoding\") as encoding_scope:\n",
    "    lstm_enc = tf.contrib.rnn.BasicLSTMCell(nodes)\n",
    "    _, last_state = tf.nn.dynamic_rnn(lstm_enc, inputs=inputs, dtype=tf.float32)\n",
    "\n",
    "with tf.variable_scope(\"decoding\") as decoding_scope:\n",
    "    lstm_dec = tf.contrib.rnn.BasicLSTMCell(nodes)\n",
    "    dec_outputs, _ = tf.nn.dynamic_rnn(lstm_dec, inputs=date_output_embed, initial_state=last_state)\n",
    "#connect outputs to \n",
    "logits = tf.contrib.layers.fully_connected(dec_outputs, num_outputs=len(ltokens)+1, activation_fn=None) \n",
    "with tf.name_scope(\"optimization\"):\n",
    "    # Loss function\n",
    "    loss = tf.contrib.seq2seq.sequence_loss(logits, targets, tf.ones([batch_size, y_seq_length]))\n",
    "    # Optimizer\n",
    "    optimizer = tf.train.RMSPropOptimizer(1e-3).minimize(loss)"
   ]
  },
  {
   "cell_type": "markdown",
   "metadata": {
    "colab_type": "text",
    "id": "43-L1cRKjB2u"
   },
   "source": [
    "Train the graph above:"
   ]
  },
  {
   "cell_type": "code",
   "execution_count": 8,
   "metadata": {
    "colab": {
     "autoexec": {
      "startup": false,
      "wait_interval": 0
     },
     "base_uri": "https://localhost:8080/",
     "height": 51
    },
    "colab_type": "code",
    "executionInfo": {
     "elapsed": 1348,
     "status": "ok",
     "timestamp": 1532261396749,
     "user": {
      "displayName": "Ole Kröger",
      "photoUrl": "//lh5.googleusercontent.com/-ciOdkP2qYNQ/AAAAAAAAAAI/AAAAAAAABxw/lDVb2_X04Yw/s50-c-k-no/photo.jpg",
      "userId": "108059461262407262819"
     },
     "user_tz": -120
    },
    "id": "qTnfrvy3jB2x",
    "outputId": "ab001b54-7b62-4ddf-bdf9-d60951b768ca"
   },
   "outputs": [
    {
     "name": "stdout",
     "output_type": "stream",
     "text": [
      "[28  6  3 17 23  3 10  6  1  5 27 15 27 10  5  9  9 27 27 27 27 27 27 27\n",
      " 27 27]\n"
     ]
    }
   ],
   "source": [
    "X_train, X_test, y_train, y_test = train_test_split(x, y, test_size=0.2, random_state=36)\n",
    "print(y_train[0])"
   ]
  },
  {
   "cell_type": "code",
   "execution_count": 9,
   "metadata": {
    "colab": {
     "autoexec": {
      "startup": false,
      "wait_interval": 0
     }
    },
    "colab_type": "code",
    "id": "1IaI_AYpzv2B"
   },
   "outputs": [],
   "source": [
    "def save(sess):\n",
    "    saver = tf.train.Saver(None)\n",
    "\n",
    "    save_path = saver.save(sess, save_path=\"seq_mod/model\", global_step=None)\n",
    "    print('model saved at %s' % save_path)"
   ]
  },
  {
   "cell_type": "code",
   "execution_count": 10,
   "metadata": {},
   "outputs": [],
   "source": [
    "def restore(sess):\n",
    "    saver = tf.train.Saver(None)\n",
    "    path = \"seq_mod/model\"\n",
    "    saver.restore(sess, save_path=path)\n",
    "    print('model restored from %s' % path)"
   ]
  },
  {
   "cell_type": "code",
   "execution_count": null,
   "metadata": {
    "colab": {
     "autoexec": {
      "startup": false,
      "wait_interval": 0
     },
     "base_uri": "https://localhost:8080/",
     "height": 85
    },
    "colab_type": "code",
    "executionInfo": {
     "elapsed": 39124,
     "status": "ok",
     "timestamp": 1532261160700,
     "user": {
      "displayName": "Ole Kröger",
      "photoUrl": "//lh5.googleusercontent.com/-ciOdkP2qYNQ/AAAAAAAAAAI/AAAAAAAABxw/lDVb2_X04Yw/s50-c-k-no/photo.jpg",
      "userId": "108059461262407262819"
     },
     "user_tz": -120
    },
    "id": "gz89pWSJjB20",
    "outputId": "3cd1d6e9-9761-4848-b4d9-a4f8404d1704"
   },
   "outputs": [
    {
     "name": "stdout",
     "output_type": "stream",
     "text": [
      "INFO:tensorflow:Restoring parameters from seq_mod/model\n",
      "model restored from seq_mod/model\n",
      "Epoch   0 Loss:  1.473 Accuracy: 0.8372 Epoch duration: 23.782s\n",
      "Accuracy on test set is:  0.759\n",
      "model saved at seq_mod/model\n",
      "Epoch   1 Loss:  1.327 Accuracy: 0.8366 Epoch duration: 25.597s\n",
      "Accuracy on test set is:  0.755\n",
      "Epoch   2 Loss:  1.230 Accuracy: 0.8367 Epoch duration: 23.353s\n",
      "Accuracy on test set is:  0.745\n",
      "Epoch   3 Loss:  1.078 Accuracy: 0.8430 Epoch duration: 23.349s\n",
      "Accuracy on test set is:  0.743\n",
      "Epoch   4 Loss:  1.109 Accuracy: 0.8398 Epoch duration: 23.323s\n",
      "Accuracy on test set is:  0.741\n",
      "Epoch   5 Loss:  1.002 Accuracy: 0.8460 Epoch duration: 23.539s\n",
      "Accuracy on test set is:  0.730\n",
      "model saved at seq_mod/model\n",
      "Epoch   6 Loss:  0.950 Accuracy: 0.8452 Epoch duration: 23.502s\n",
      "Accuracy on test set is:  0.716\n",
      "Epoch   7 Loss:  0.911 Accuracy: 0.8460 Epoch duration: 23.406s\n",
      "Accuracy on test set is:  0.722\n",
      "Epoch   8 Loss:  0.833 Accuracy: 0.8541 Epoch duration: 23.479s\n",
      "Accuracy on test set is:  0.711\n",
      "Epoch   9 Loss:  0.767 Accuracy: 0.8609 Epoch duration: 23.632s\n",
      "Accuracy on test set is:  0.703\n",
      "Epoch  10 Loss:  0.682 Accuracy: 0.8662 Epoch duration: 23.446s\n",
      "Accuracy on test set is:  0.705\n",
      "model saved at seq_mod/model\n",
      "Epoch  11 Loss:  0.747 Accuracy: 0.8563 Epoch duration: 23.441s\n",
      "Accuracy on test set is:  0.708\n",
      "Epoch  12 Loss:  0.746 Accuracy: 0.8528 Epoch duration: 23.471s\n",
      "Accuracy on test set is:  0.703\n",
      "Epoch  13 Loss:  0.618 Accuracy: 0.8695 Epoch duration: 23.378s\n",
      "Accuracy on test set is:  0.696\n",
      "Epoch  14 Loss:  0.647 Accuracy: 0.8645 Epoch duration: 23.460s\n",
      "Accuracy on test set is:  0.700\n",
      "Epoch  15 Loss:  0.672 Accuracy: 0.8613 Epoch duration: 23.473s\n",
      "Accuracy on test set is:  0.696\n",
      "model saved at seq_mod/model\n",
      "Epoch  16 Loss:  0.627 Accuracy: 0.8655 Epoch duration: 23.382s\n",
      "Accuracy on test set is:  0.703\n",
      "Epoch  17 Loss:  0.644 Accuracy: 0.8623 Epoch duration: 23.362s\n",
      "Accuracy on test set is:  0.687\n",
      "Epoch  18 Loss:  0.530 Accuracy: 0.8780 Epoch duration: 23.485s\n",
      "Accuracy on test set is:  0.692\n",
      "Epoch  19 Loss:  0.572 Accuracy: 0.8698 Epoch duration: 23.515s\n",
      "Accuracy on test set is:  0.686\n",
      "Epoch  20 Loss:  0.563 Accuracy: 0.8728 Epoch duration: 23.346s\n",
      "Accuracy on test set is:  0.690\n",
      "model saved at seq_mod/model\n",
      "Epoch  21 Loss:  0.536 Accuracy: 0.8755 Epoch duration: 23.397s\n",
      "Accuracy on test set is:  0.685\n",
      "Epoch  22 Loss:  0.523 Accuracy: 0.8791 Epoch duration: 23.526s\n",
      "Accuracy on test set is:  0.686\n",
      "Epoch  23 Loss:  0.528 Accuracy: 0.8727 Epoch duration: 23.437s\n",
      "Accuracy on test set is:  0.692\n",
      "Epoch  24 Loss:  0.509 Accuracy: 0.8729 Epoch duration: 23.470s\n",
      "Accuracy on test set is:  0.688\n",
      "Epoch  25 Loss:  0.502 Accuracy: 0.8760 Epoch duration: 23.325s\n",
      "Accuracy on test set is:  0.685\n",
      "model saved at seq_mod/model\n",
      "Epoch  26 Loss:  0.483 Accuracy: 0.8745 Epoch duration: 23.426s\n",
      "Accuracy on test set is:  0.681\n",
      "Epoch  27 Loss:  0.447 Accuracy: 0.8861 Epoch duration: 23.431s\n",
      "Accuracy on test set is:  0.672\n",
      "Epoch  28 Loss:  0.455 Accuracy: 0.8848 Epoch duration: 23.416s\n",
      "Accuracy on test set is:  0.681\n",
      "Epoch  29 Loss:  0.410 Accuracy: 0.8929 Epoch duration: 23.538s\n",
      "Accuracy on test set is:  0.676\n",
      "Epoch  30 Loss:  0.446 Accuracy: 0.8857 Epoch duration: 23.583s\n",
      "Accuracy on test set is:  0.680\n",
      "model saved at seq_mod/model\n",
      "Epoch  31 Loss:  0.441 Accuracy: 0.8874 Epoch duration: 23.473s\n",
      "Accuracy on test set is:  0.690\n",
      "Epoch  32 Loss:  0.410 Accuracy: 0.8897 Epoch duration: 23.303s\n",
      "Accuracy on test set is:  0.669\n",
      "Epoch  33 Loss:  0.441 Accuracy: 0.8852 Epoch duration: 23.464s\n",
      "Accuracy on test set is:  0.666\n",
      "Epoch  34 Loss:  0.416 Accuracy: 0.8902 Epoch duration: 23.506s\n",
      "Accuracy on test set is:  0.666\n",
      "Epoch  35 Loss:  0.403 Accuracy: 0.8849 Epoch duration: 23.458s\n",
      "Accuracy on test set is:  0.674\n",
      "model saved at seq_mod/model\n",
      "Epoch  36 Loss:  0.420 Accuracy: 0.8872 Epoch duration: 23.445s\n",
      "Accuracy on test set is:  0.668\n",
      "Epoch  37 Loss:  0.396 Accuracy: 0.8895 Epoch duration: 23.469s\n",
      "Accuracy on test set is:  0.668\n",
      "Epoch  38 Loss:  0.403 Accuracy: 0.8912 Epoch duration: 23.524s\n",
      "Accuracy on test set is:  0.674\n",
      "Epoch  39 Loss:  0.411 Accuracy: 0.8831 Epoch duration: 23.334s\n",
      "Accuracy on test set is:  0.671\n",
      "Epoch  40 Loss:  0.340 Accuracy: 0.9022 Epoch duration: 23.543s\n",
      "Accuracy on test set is:  0.669\n",
      "model saved at seq_mod/model\n",
      "Epoch  41 Loss:  0.382 Accuracy: 0.8947 Epoch duration: 23.379s\n",
      "Accuracy on test set is:  0.670\n",
      "Epoch  42 Loss:  0.303 Accuracy: 0.9105 Epoch duration: 23.494s\n",
      "Accuracy on test set is:  0.671\n",
      "Epoch  43 Loss:  0.347 Accuracy: 0.9028 Epoch duration: 23.456s\n",
      "Accuracy on test set is:  0.661\n",
      "Epoch  44 Loss:  0.359 Accuracy: 0.8929 Epoch duration: 23.485s\n",
      "Accuracy on test set is:  0.664\n",
      "Epoch  45 Loss:  0.349 Accuracy: 0.8981 Epoch duration: 23.420s\n",
      "Accuracy on test set is:  0.671\n",
      "model saved at seq_mod/model\n",
      "Epoch  46 Loss:  0.337 Accuracy: 0.9031 Epoch duration: 23.467s\n",
      "Accuracy on test set is:  0.666\n",
      "Epoch  47 Loss:  0.344 Accuracy: 0.9000 Epoch duration: 23.516s\n",
      "Accuracy on test set is:  0.658\n",
      "Epoch  48 Loss:  0.330 Accuracy: 0.9020 Epoch duration: 23.502s\n",
      "Accuracy on test set is:  0.663\n",
      "Epoch  49 Loss:  0.335 Accuracy: 0.9024 Epoch duration: 23.446s\n",
      "Accuracy on test set is:  0.659\n",
      "Epoch  50 Loss:  0.335 Accuracy: 0.9038 Epoch duration: 23.435s\n",
      "Accuracy on test set is:  0.655\n",
      "model saved at seq_mod/model\n",
      "Epoch  51 Loss:  0.344 Accuracy: 0.8954 Epoch duration: 23.418s\n",
      "Accuracy on test set is:  0.661\n",
      "Epoch  52 Loss:  0.304 Accuracy: 0.9107 Epoch duration: 23.528s\n",
      "Accuracy on test set is:  0.656\n",
      "Epoch  53 Loss:  0.340 Accuracy: 0.8973 Epoch duration: 23.461s\n",
      "Accuracy on test set is:  0.667\n",
      "Epoch  54 Loss:  0.332 Accuracy: 0.9024 Epoch duration: 23.366s\n",
      "Accuracy on test set is:  0.658\n",
      "Epoch  55 Loss:  0.284 Accuracy: 0.9127 Epoch duration: 23.420s\n",
      "Accuracy on test set is:  0.663\n",
      "model saved at seq_mod/model\n",
      "Epoch  56 Loss:  0.303 Accuracy: 0.9061 Epoch duration: 23.420s\n",
      "Accuracy on test set is:  0.665\n",
      "Epoch  57 Loss:  0.309 Accuracy: 0.9043 Epoch duration: 23.427s\n",
      "Accuracy on test set is:  0.656\n",
      "Epoch  58 Loss:  0.320 Accuracy: 0.9034 Epoch duration: 23.489s\n",
      "Accuracy on test set is:  0.656\n",
      "Epoch  59 Loss:  0.301 Accuracy: 0.9107 Epoch duration: 23.368s\n",
      "Accuracy on test set is:  0.663\n",
      "Epoch  60 Loss:  0.274 Accuracy: 0.9193 Epoch duration: 23.381s\n",
      "Accuracy on test set is:  0.665\n",
      "model saved at seq_mod/model\n",
      "Epoch  61 Loss:  0.318 Accuracy: 0.9023 Epoch duration: 23.488s\n",
      "Accuracy on test set is:  0.658\n",
      "Epoch  62 Loss:  0.275 Accuracy: 0.9162 Epoch duration: 23.572s\n",
      "Accuracy on test set is:  0.659\n",
      "Epoch  63 Loss:  0.260 Accuracy: 0.9194 Epoch duration: 23.606s\n",
      "Accuracy on test set is:  0.662\n",
      "Epoch  64 Loss:  0.293 Accuracy: 0.9089 Epoch duration: 23.442s\n",
      "Accuracy on test set is:  0.657\n",
      "Epoch  65 Loss:  0.312 Accuracy: 0.9036 Epoch duration: 23.430s\n",
      "Accuracy on test set is:  0.650\n",
      "model saved at seq_mod/model\n",
      "Epoch  66 Loss:  0.280 Accuracy: 0.9152 Epoch duration: 23.321s\n",
      "Accuracy on test set is:  0.654\n",
      "Epoch  67 Loss:  0.278 Accuracy: 0.9116 Epoch duration: 23.472s\n",
      "Accuracy on test set is:  0.660\n",
      "Epoch  68 Loss:  0.259 Accuracy: 0.9191 Epoch duration: 23.460s\n",
      "Accuracy on test set is:  0.649\n",
      "Epoch  69 Loss:  0.296 Accuracy: 0.9083 Epoch duration: 23.573s\n",
      "Accuracy on test set is:  0.665\n",
      "Epoch  70 Loss:  0.265 Accuracy: 0.9166 Epoch duration: 23.774s\n",
      "Accuracy on test set is:  0.656\n",
      "model saved at seq_mod/model\n",
      "Epoch  71 Loss:  0.283 Accuracy: 0.9062 Epoch duration: 23.416s\n",
      "Accuracy on test set is:  0.659\n",
      "Epoch  72 Loss:  0.225 Accuracy: 0.9268 Epoch duration: 20011.370s\n",
      "Accuracy on test set is:  0.659\n",
      "Epoch  73 Loss:  0.282 Accuracy: 0.9130 Epoch duration: 25.742s\n",
      "Accuracy on test set is:  0.656\n",
      "Epoch  74 Loss:  0.260 Accuracy: 0.9179 Epoch duration: 24.704s\n",
      "Accuracy on test set is:  0.646\n",
      "Epoch  75 Loss:  0.230 Accuracy: 0.9249 Epoch duration: 23.946s\n",
      "Accuracy on test set is:  0.651\n",
      "model saved at seq_mod/model\n",
      "Epoch  76 Loss:  0.248 Accuracy: 0.9179 Epoch duration: 24.340s\n",
      "Accuracy on test set is:  0.656\n",
      "Epoch  77 Loss:  0.259 Accuracy: 0.9208 Epoch duration: 23.745s\n",
      "Accuracy on test set is:  0.650\n",
      "Epoch  78 Loss:  0.220 Accuracy: 0.9297 Epoch duration: 23.703s\n",
      "Accuracy on test set is:  0.653\n",
      "Epoch  79 Loss:  0.243 Accuracy: 0.9221 Epoch duration: 25.914s\n"
     ]
    },
    {
     "name": "stdout",
     "output_type": "stream",
     "text": [
      "Accuracy on test set is:  0.648\n",
      "Epoch  80 Loss:  0.262 Accuracy: 0.9173 Epoch duration: 24.390s\n",
      "Accuracy on test set is:  0.651\n",
      "model saved at seq_mod/model\n",
      "Epoch  81 Loss:  0.235 Accuracy: 0.9237 Epoch duration: 23.536s\n",
      "Accuracy on test set is:  0.649\n",
      "Epoch  82 Loss:  0.258 Accuracy: 0.9164 Epoch duration: 23.502s\n",
      "Accuracy on test set is:  0.646\n",
      "Epoch  83 Loss:  0.243 Accuracy: 0.9198 Epoch duration: 23.650s\n",
      "Accuracy on test set is:  0.651\n",
      "Epoch  84 Loss:  0.288 Accuracy: 0.9051 Epoch duration: 23.774s\n",
      "Accuracy on test set is:  0.638\n",
      "Epoch  85 Loss:  0.267 Accuracy: 0.9098 Epoch duration: 23.628s\n",
      "Accuracy on test set is:  0.644\n",
      "model saved at seq_mod/model\n",
      "Epoch  86 Loss:  0.228 Accuracy: 0.9254 Epoch duration: 23.532s\n",
      "Accuracy on test set is:  0.651\n",
      "Epoch  87 Loss:  0.225 Accuracy: 0.9261 Epoch duration: 25.120s\n",
      "Accuracy on test set is:  0.647\n",
      "Epoch  88 Loss:  0.214 Accuracy: 0.9322 Epoch duration: 24.030s\n",
      "Accuracy on test set is:  0.648\n",
      "Epoch  89 Loss:  0.208 Accuracy: 0.9347 Epoch duration: 23.580s\n",
      "Accuracy on test set is:  0.654\n",
      "Epoch  90 Loss:  0.229 Accuracy: 0.9255 Epoch duration: 24.706s\n",
      "Accuracy on test set is:  0.654\n",
      "model saved at seq_mod/model\n",
      "Epoch  91 Loss:  0.242 Accuracy: 0.9219 Epoch duration: 26.516s\n",
      "Accuracy on test set is:  0.648\n",
      "Epoch  92 Loss:  0.218 Accuracy: 0.9304 Epoch duration: 26.357s\n",
      "Accuracy on test set is:  0.651\n",
      "Epoch  93 Loss:  0.221 Accuracy: 0.9257 Epoch duration: 27.578s\n",
      "Accuracy on test set is:  0.648\n",
      "Epoch  94 Loss:  0.197 Accuracy: 0.9395 Epoch duration: 23.817s\n",
      "Accuracy on test set is:  0.652\n",
      "Epoch  95 Loss:  0.209 Accuracy: 0.9288 Epoch duration: 23.518s\n",
      "Accuracy on test set is:  0.651\n",
      "model saved at seq_mod/model\n",
      "Epoch  96 Loss:  0.196 Accuracy: 0.9350 Epoch duration: 23.787s\n",
      "Accuracy on test set is:  0.658\n",
      "Epoch  97 Loss:  0.202 Accuracy: 0.9322 Epoch duration: 23.671s\n",
      "Accuracy on test set is:  0.648\n",
      "Epoch  98 Loss:  0.202 Accuracy: 0.9328 Epoch duration: 23.441s\n",
      "Accuracy on test set is:  0.651\n",
      "Epoch  99 Loss:  0.203 Accuracy: 0.9338 Epoch duration: 23.943s\n",
      "Accuracy on test set is:  0.654\n",
      "Epoch 100 Loss:  0.205 Accuracy: 0.9370 Epoch duration: 24.625s\n",
      "Accuracy on test set is:  0.635\n",
      "model saved at seq_mod/model\n",
      "Epoch 101 Loss:  0.208 Accuracy: 0.9314 Epoch duration: 24.677s\n",
      "Accuracy on test set is:  0.645\n",
      "Epoch 102 Loss:  0.230 Accuracy: 0.9239 Epoch duration: 24.524s\n",
      "Accuracy on test set is:  0.645\n",
      "Epoch 103 Loss:  0.199 Accuracy: 0.9354 Epoch duration: 25.984s\n",
      "Accuracy on test set is:  0.645\n",
      "Epoch 104 Loss:  0.227 Accuracy: 0.9278 Epoch duration: 26.882s\n",
      "Accuracy on test set is:  0.648\n",
      "Epoch 105 Loss:  0.200 Accuracy: 0.9298 Epoch duration: 24.926s\n",
      "Accuracy on test set is:  0.644\n",
      "model saved at seq_mod/model\n",
      "Epoch 106 Loss:  0.231 Accuracy: 0.9235 Epoch duration: 24.727s\n",
      "Accuracy on test set is:  0.650\n",
      "Epoch 107 Loss:  0.223 Accuracy: 0.9260 Epoch duration: 23.837s\n",
      "Accuracy on test set is:  0.651\n",
      "Epoch 108 Loss:  0.232 Accuracy: 0.9241 Epoch duration: 24.013s\n",
      "Accuracy on test set is:  0.644\n"
     ]
    }
   ],
   "source": [
    "with tf.Session() as sess: \n",
    "    sess.run(tf.global_variables_initializer())\n",
    "    restore(sess)\n",
    "    epochs = 3600\n",
    "    for epoch_i in range(epochs):\n",
    "        start_time = time.time()\n",
    "        for batch_i, (source_batch, target_batch) in enumerate(batch_data(X_train, y_train, batch_size)):\n",
    "            _, batch_loss, batch_logits = sess.run([optimizer, loss, logits],\n",
    "                feed_dict = {inputs: source_batch,\n",
    "                 outputs: target_batch[:, :-1],\n",
    "                 targets: target_batch[:, 1:]})\n",
    "\n",
    "        accuracy = np.mean(batch_logits.argmax(axis=-1) == target_batch[:,1:])\n",
    "        print('Epoch {:3} Loss: {:>6.3f} Accuracy: {:>6.4f} Epoch duration: {:>6.3f}s'.format(epoch_i, batch_loss, \n",
    "                                                                          accuracy, time.time() - start_time))\n",
    "\n",
    "        source_batch, target_batch = next(batch_data(X_test, y_test, batch_size))\n",
    "\n",
    "        dec_input = np.zeros((len(source_batch), 1)) + len(ltokens)\n",
    "        for i in range(y_seq_length):\n",
    "            batch_logits = sess.run(logits,\n",
    "                        feed_dict = {inputs: source_batch,\n",
    "                         outputs: dec_input})\n",
    "            prediction = batch_logits[:,-1].argmax(axis=-1)\n",
    "            dec_input = np.hstack([dec_input, prediction[:,None]])\n",
    "\n",
    "        print('Accuracy on test set is: {:>6.3f}'.format(np.mean(dec_input == target_batch)))     \n",
    "        if epoch_i % 5 == 0:\n",
    "            save(sess)\n",
    "    \n",
    "    save(sess)"
   ]
  },
  {
   "cell_type": "markdown",
   "metadata": {
    "colab_type": "text",
    "id": "-8PTFAcXjB29"
   },
   "source": [
    "Translate on test set"
   ]
  },
  {
   "cell_type": "code",
   "execution_count": null,
   "metadata": {},
   "outputs": [],
   "source": [
    "with tf.Session() as sess: \n",
    "    restore(sess)\n",
    "    batch_size = 512\n",
    "    source_batch, target_batch = next(batch_data(X_test, y_test, batch_size))\n",
    "\n",
    "    dec_input = np.zeros((len(source_batch), 1)) + len(ltokens)\n",
    "    for i in range(y_seq_length):\n",
    "        batch_logits = sess.run(logits,\n",
    "                    feed_dict = {inputs: source_batch,\n",
    "                     outputs: dec_input})\n",
    "        prediction = batch_logits[:,-1].argmax(axis=-1)\n",
    "        dec_input = np.hstack([dec_input, prediction[:,None]])\n",
    "\n",
    "    print('Accuracy on test set is: {:>6.3f}'.format(np.mean(dec_input == target_batch)))"
   ]
  },
  {
   "cell_type": "markdown",
   "metadata": {
    "colab_type": "text",
    "id": "iPFJMJoyjB3B"
   },
   "source": [
    "Let's randomly take two from this test set and see what it spits out:"
   ]
  },
  {
   "cell_type": "code",
   "execution_count": null,
   "metadata": {},
   "outputs": [],
   "source": [
    "i = 102\n",
    "print(dec_input[i,:])\n",
    "print(ltokens)\n",
    "seq = \"\"\n",
    "for c in dec_input[i,1:]:\n",
    "    c = int(c)\n",
    "    if c != 28:\n",
    "        seq += ltokens[c] \n",
    "        \n",
    "print(seq)\n",
    "\n",
    "seq = \"\"\n",
    "for c in target_batch[i,1:]:\n",
    "    c = int(c)\n",
    "    \n",
    "    if c != 28:\n",
    "        seq += ltokens[c] \n",
    "\n",
    "print(\"Correct: \", seq)"
   ]
  },
  {
   "cell_type": "code",
   "execution_count": null,
   "metadata": {},
   "outputs": [],
   "source": [
    "with tf.Session() as sess: \n",
    "    restore(sess)\n",
    "    batch_size = 512\n",
    "    source_batch, target_batch = next(batch_data(X_test, y_test, batch_size))\n",
    "\n",
    "    dec_input = np.zeros((len(source_batch), 1)) + len(ltokens)\n",
    "    for i in range(y_seq_length):\n",
    "        batch_logits = sess.run(logits,\n",
    "                    feed_dict = {inputs: source_batch,\n",
    "                     outputs: dec_input})\n",
    "        prediction = batch_logits[:,-1].argmax(axis=-1)\n",
    "        dec_input = np.hstack([dec_input, prediction[:,None]])\n",
    "\n",
    "    print('Accuracy on test set is: {:>6.3f}'.format(np.mean(dec_input == target_batch)))\n",
    "    cc = 0\n",
    "    fcc = 0\n",
    "    fc = 0\n",
    "    fl = 0\n",
    "    nl = 0\n",
    "    for i in range(len(dec_input)):\n",
    "        feq = False\n",
    "        pseq = \"\"\n",
    "        for c in dec_input[i,1:]:\n",
    "            c = int(c)\n",
    "            if c != 28:\n",
    "                pseq += ltokens[c] \n",
    "\n",
    "        cseq = \"\"\n",
    "        cseql = \"\"\n",
    "        for c in target_batch[i,1:]:\n",
    "            c = int(c)\n",
    "\n",
    "            if c != 28:\n",
    "                cseq += ltokens[c] \n",
    "                cseql += ltokens[c][0]\n",
    "                if ltokens[c] == \"#frac\":\n",
    "                    fc += 1\n",
    "                    feq = True\n",
    "\n",
    "        if pseq == cseq:\n",
    "            cc += 1\n",
    "            if feq:\n",
    "                fcc += 1\n",
    "        cseql = cseql.rstrip()\n",
    "        if feq:\n",
    "            fl += len(cseql)\n",
    "        else:\n",
    "            nl += len(cseql)\n",
    "        \n",
    "    print(\"Accuracy %.2f %%\" % (cc/len(dec_input)*100))  \n",
    "    print(\"Accuracy for fraction equations %.2f %%\" % (fcc/fc*100))\n",
    "    print(\"Accuracy for simple equations %.2f %%\" % ((cc-fcc)/(len(dec_input)-fc)*100))\n",
    "    print(\"Average length frac: %.1f\" % (fl/fc))\n",
    "    print(\"Average length simple: %.1f\" % (nl/(len(dec_input)-fc)))"
   ]
  }
 ],
 "metadata": {
  "colab": {
   "collapsed_sections": [],
   "default_view": {},
   "name": "Seq2Seq.ipynb",
   "provenance": [],
   "version": "0.3.2",
   "views": {}
  },
  "kernelspec": {
   "display_name": "Python 3",
   "language": "python",
   "name": "python3"
  },
  "language_info": {
   "codemirror_mode": {
    "name": "ipython",
    "version": 3
   },
   "file_extension": ".py",
   "mimetype": "text/x-python",
   "name": "python",
   "nbconvert_exporter": "python",
   "pygments_lexer": "ipython3",
   "version": "3.5.2"
  }
 },
 "nbformat": 4,
 "nbformat_minor": 1
}
